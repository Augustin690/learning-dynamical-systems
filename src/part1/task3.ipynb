{
 "cells": [
  {
   "cell_type": "code",
   "execution_count": 166,
   "id": "e34ace1b",
   "metadata": {},
   "outputs": [],
   "source": [
    "# All imports (TODO: Add appropriate packages if necessary)\n",
    "import numpy as np\n",
    "from scipy.integrate import solve_ivp\n",
    "import matplotlib.pyplot as plt\n",
    "from utils import *\n"
   ]
  },
  {
   "cell_type": "markdown",
   "id": "7cbd39d3",
   "metadata": {},
   "source": [
    "### TODO: Part 1 - Estimate the vector field with a linear operator and compute mean squared error to the solution after $\\Delta t$"
   ]
  },
  {
   "cell_type": "code",
   "execution_count": 169,
   "id": "6454e415",
   "metadata": {},
   "outputs": [],
   "source": []
  },
  {
   "cell_type": "markdown",
   "id": "1ee4aa2d",
   "metadata": {},
   "source": [
    "### TODO: Part 2 - Approximate the vector field with RBF and compute mean squared error to the solution after $\\Delta t$"
   ]
  },
  {
   "cell_type": "code",
   "execution_count": null,
   "id": "08fa2cec",
   "metadata": {},
   "outputs": [],
   "source": []
  },
  {
   "cell_type": "markdown",
   "id": "f6f27b1a",
   "metadata": {},
   "source": [
    "### TODO: Part 3 - Analysis of the system"
   ]
  },
  {
   "cell_type": "code",
   "execution_count": null,
   "id": "ac404ceb",
   "metadata": {},
   "outputs": [],
   "source": []
  }
 ],
 "metadata": {
  "kernelspec": {
   "display_name": "Python 3 (ipykernel)",
   "language": "python",
   "name": "python3"
  },
  "language_info": {
   "codemirror_mode": {
    "name": "ipython",
    "version": 3
   },
   "file_extension": ".py",
   "mimetype": "text/x-python",
   "name": "python",
   "nbconvert_exporter": "python",
   "pygments_lexer": "ipython3",
   "version": "3.9.18"
  }
 },
 "nbformat": 4,
 "nbformat_minor": 5
}
