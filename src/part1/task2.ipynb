{
 "cells": [
  {
   "cell_type": "markdown",
   "id": "952e51a3",
   "metadata": {},
   "source": [
    "# TODO: Task 2 - Approximating linear vector fields"
   ]
  },
  {
   "cell_type": "code",
   "execution_count": null,
   "id": "d05af1c2",
   "metadata": {},
   "outputs": [],
   "source": [
    "# All imports (TODO: Remove the ones that you don't use and add appropriate packages if necessary)\n",
    "import numpy as np\n",
    "import matplotlib.pyplot as plt\n",
    "from scipy.integrate import solve_ivp\n",
    "\n",
    "# Load data\n",
    "x0 = np.loadtxt('../../data/linear_vectorfield_data_x0.txt')\n",
    "x1 = np.loadtxt('../../data/linear_vectorfield_data_x1.txt')"
   ]
  },
  {
   "cell_type": "markdown",
   "id": "382daeeb",
   "metadata": {},
   "source": [
    "### TODO: Part 1 - Estimate the linear vector field that was used to generate the points $x_1$ from the points $x_0$"
   ]
  },
  {
   "cell_type": "code",
   "execution_count": null,
   "id": "53d63342",
   "metadata": {},
   "outputs": [],
   "source": []
  },
  {
   "cell_type": "markdown",
   "id": "353feba8",
   "metadata": {},
   "source": [
    "### TODO: Part 2 - Solve the linear system and compute the mean squared error "
   ]
  },
  {
   "cell_type": "code",
   "execution_count": null,
   "id": "c7d528a4",
   "metadata": {},
   "outputs": [],
   "source": []
  },
  {
   "cell_type": "markdown",
   "id": "cd3cd81e",
   "metadata": {},
   "source": [
    "###  TODO: Part 3 - Visualize trajectories and phase portrait "
   ]
  },
  {
   "cell_type": "code",
   "execution_count": null,
   "id": "4d646cb0",
   "metadata": {},
   "outputs": [],
   "source": []
  }
 ],
 "metadata": {
  "kernelspec": {
   "display_name": "Python 3 (ipykernel)",
   "language": "python",
   "name": "python3"
  },
  "language_info": {
   "codemirror_mode": {
    "name": "ipython",
    "version": 3
   },
   "file_extension": ".py",
   "mimetype": "text/x-python",
   "name": "python",
   "nbconvert_exporter": "python",
   "pygments_lexer": "ipython3",
   "version": "3.11.5"
  }
 },
 "nbformat": 4,
 "nbformat_minor": 5
}
