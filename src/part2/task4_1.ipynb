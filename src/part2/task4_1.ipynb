{
 "cells": [
  {
   "cell_type": "markdown",
   "metadata": {},
   "source": [
    "# Exercise 5: Time-delay Embedding (Task 4 Part 1)"
   ]
  },
  {
   "cell_type": "code",
   "execution_count": null,
   "metadata": {},
   "outputs": [],
   "source": [
    "# All imports\n",
    "import numpy as np\n",
    "from utils import *"
   ]
  },
  {
   "cell_type": "markdown",
   "metadata": {},
   "source": [
    "### TODO: Load and visuaize raw data (from ../../data/takens_1.txt)"
   ]
  },
  {
   "cell_type": "code",
   "execution_count": null,
   "metadata": {},
   "outputs": [],
   "source": []
  },
  {
   "cell_type": "markdown",
   "metadata": {},
   "source": [
    "### TODO: Plot the first coordinate against the line number in the dataset."
   ]
  },
  {
   "cell_type": "code",
   "execution_count": null,
   "metadata": {},
   "outputs": [],
   "source": []
  },
  {
   "cell_type": "markdown",
   "metadata": {},
   "source": [
    "### TODO: Choose a delay ∆n of rows and plot the coordinate against its delayed version."
   ]
  },
  {
   "cell_type": "code",
   "execution_count": null,
   "metadata": {},
   "outputs": [],
   "source": [
    "# The following are given just for refeence! Feel free to adapat and change the structure of the notebook!\n",
    "# TODO: Create time-delayed coordinates for out_dim = 2 (use method time_delay from utils.py)\n",
    "\n",
    "# TODO: Plot embedded manifold in 2-d Euclidean space\n",
    "\n",
    "# TODO: Create time-delayed coordinates for 3-d Euclidean space (use method time_delay from utils.py)\n",
    "\n",
    "# TODO: Plot embedded manifold in 3-d Euclidean space"
   ]
  }
 ],
 "metadata": {
  "kernelspec": {
   "display_name": "Python 3.11.5 ('mlcm')",
   "language": "python",
   "name": "python3"
  },
  "language_info": {
   "codemirror_mode": {
    "name": "ipython",
    "version": 3
   },
   "file_extension": ".py",
   "mimetype": "text/x-python",
   "name": "python",
   "nbconvert_exporter": "python",
   "pygments_lexer": "ipython3",
   "version": "3.12.2"
  },
  "orig_nbformat": 4,
  "vscode": {
   "interpreter": {
    "hash": "d9801422a620a92c41d551c90723520808f27fc58933fa1975f3e21d6288039d"
   }
  }
 },
 "nbformat": 4,
 "nbformat_minor": 2
}
